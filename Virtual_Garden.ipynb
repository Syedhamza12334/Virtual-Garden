{
  "nbformat": 4,
  "nbformat_minor": 0,
  "metadata": {
    "colab": {
      "provenance": []
    },
    "kernelspec": {
      "name": "python3",
      "display_name": "Python 3"
    },
    "language_info": {
      "name": "python"
    }
  },
  "cells": [
    {
      "cell_type": "code",
      "execution_count": 1,
      "metadata": {
        "id": "zA6rLrQ1lWnm"
      },
      "outputs": [],
      "source": [
        "class Plant:\n",
        "  def __init__(self,name,harvest_yeild):\n",
        "    self.name=name\n",
        "    self.harvest_yeild = harvest_yeild\n",
        "    self.growth_stages=[\"seed\",\"sprout\",\"mature\",\"flower\",\"fruit\",\"harvest_ready\"]\n",
        "    self.current_stages=self.growth_stages[0]\n",
        "    self.harvesttable=False\n",
        "\n",
        "  def grow(self):\n",
        "    current_index=self.growth_stages.index(self.current_stages)\n",
        "    if current_index < len(self.growth_stages)-1:\n",
        "      self.current_stages = self.growth_stages[current_index + 1]\n",
        "      if self.current_stages == self.growth_stages[-1]:\n",
        "         self.harvesttable = True\n",
        "\n",
        "    elif self.current_stages == self.growth_stages[-1]:\n",
        "        print(f\"{self.name} is already full grown\")\n",
        "\n",
        "  def harvest(self):\n",
        "      if self.harvesttable:\n",
        "          self.harvesttable = False\n",
        "          return self.harvest_yeild\n",
        "      else:\n",
        "           return None\n"
      ]
    },
    {
      "cell_type": "code",
      "source": [
        "tomato=Plant(\"tomato\",10)"
      ],
      "metadata": {
        "id": "5EYuIRaHplT3"
      },
      "execution_count": null,
      "outputs": []
    },
    {
      "cell_type": "code",
      "source": [
        "tomato.current_stages"
      ],
      "metadata": {
        "colab": {
          "base_uri": "https://localhost:8080/",
          "height": 36
        },
        "id": "pj3mygeYp22J",
        "outputId": "40962d6b-40a7-42d8-8044-c6ad52ca3f4f"
      },
      "execution_count": null,
      "outputs": [
        {
          "output_type": "execute_result",
          "data": {
            "text/plain": [
              "'seed'"
            ],
            "application/vnd.google.colaboratory.intrinsic+json": {
              "type": "string"
            }
          },
          "metadata": {},
          "execution_count": 234
        }
      ]
    },
    {
      "cell_type": "code",
      "source": [],
      "metadata": {
        "id": "HBHomVC2qeH8"
      },
      "execution_count": null,
      "outputs": []
    },
    {
      "cell_type": "code",
      "source": [
        "tomato.grow()"
      ],
      "metadata": {
        "id": "dW8j4_XpqZCL"
      },
      "execution_count": null,
      "outputs": []
    },
    {
      "cell_type": "code",
      "source": [
        "tomato.current_stages"
      ],
      "metadata": {
        "colab": {
          "base_uri": "https://localhost:8080/",
          "height": 36
        },
        "id": "1LADMyoTqgBo",
        "outputId": "41b143cc-243d-40e7-9e30-1a1f6512c4c2"
      },
      "execution_count": null,
      "outputs": [
        {
          "output_type": "execute_result",
          "data": {
            "text/plain": [
              "'sprout'"
            ],
            "application/vnd.google.colaboratory.intrinsic+json": {
              "type": "string"
            }
          },
          "metadata": {},
          "execution_count": 236
        }
      ]
    },
    {
      "cell_type": "code",
      "source": [
        "tomato.grow()\n",
        "tomato.current_stages"
      ],
      "metadata": {
        "colab": {
          "base_uri": "https://localhost:8080/",
          "height": 36
        },
        "id": "kHlKWQjlqlAx",
        "outputId": "0f097127-43f8-45a9-9cb2-0257f080436e"
      },
      "execution_count": null,
      "outputs": [
        {
          "output_type": "execute_result",
          "data": {
            "text/plain": [
              "'mature'"
            ],
            "application/vnd.google.colaboratory.intrinsic+json": {
              "type": "string"
            }
          },
          "metadata": {},
          "execution_count": 237
        }
      ]
    },
    {
      "cell_type": "code",
      "source": [
        "tomato.grow()\n",
        "tomato.current_stages"
      ],
      "metadata": {
        "colab": {
          "base_uri": "https://localhost:8080/",
          "height": 36
        },
        "id": "8BfHA0y6qys1",
        "outputId": "7602a5f2-6a00-4003-b2ba-9cdda89325d0"
      },
      "execution_count": null,
      "outputs": [
        {
          "output_type": "execute_result",
          "data": {
            "text/plain": [
              "'flower'"
            ],
            "application/vnd.google.colaboratory.intrinsic+json": {
              "type": "string"
            }
          },
          "metadata": {},
          "execution_count": 238
        }
      ]
    },
    {
      "cell_type": "code",
      "source": [
        "tomato.grow()\n",
        "tomato.current_stages"
      ],
      "metadata": {
        "colab": {
          "base_uri": "https://localhost:8080/",
          "height": 36
        },
        "id": "h-_KneVsq1cR",
        "outputId": "7a7c5a17-ab25-4e3b-d571-a9e834488f08"
      },
      "execution_count": null,
      "outputs": [
        {
          "output_type": "execute_result",
          "data": {
            "text/plain": [
              "'fruit'"
            ],
            "application/vnd.google.colaboratory.intrinsic+json": {
              "type": "string"
            }
          },
          "metadata": {},
          "execution_count": 239
        }
      ]
    },
    {
      "cell_type": "code",
      "source": [
        "tomato.grow()\n",
        "tomato.current_stages"
      ],
      "metadata": {
        "colab": {
          "base_uri": "https://localhost:8080/",
          "height": 36
        },
        "id": "g_5VYLg2q4nD",
        "outputId": "c3119ac8-8ccd-4f6e-b6db-10fcb9d66fd1"
      },
      "execution_count": null,
      "outputs": [
        {
          "output_type": "execute_result",
          "data": {
            "text/plain": [
              "'harvest_ready'"
            ],
            "application/vnd.google.colaboratory.intrinsic+json": {
              "type": "string"
            }
          },
          "metadata": {},
          "execution_count": 240
        }
      ]
    },
    {
      "cell_type": "code",
      "source": [
        "tomato.grow()\n",
        "tomato.current_stages"
      ],
      "metadata": {
        "colab": {
          "base_uri": "https://localhost:8080/",
          "height": 53
        },
        "id": "OGYkZE6Gq67W",
        "outputId": "62ec03aa-2ea2-4fc3-da49-752a027588e4"
      },
      "execution_count": null,
      "outputs": [
        {
          "output_type": "stream",
          "name": "stdout",
          "text": [
            "tomato is already full grown\n"
          ]
        },
        {
          "output_type": "execute_result",
          "data": {
            "text/plain": [
              "'harvest_ready'"
            ],
            "application/vnd.google.colaboratory.intrinsic+json": {
              "type": "string"
            }
          },
          "metadata": {},
          "execution_count": 241
        }
      ]
    },
    {
      "cell_type": "code",
      "source": [
        "class Tomato(Plant):\n",
        "  def __init__(self):\n",
        "    super().__init__(\"Tomato\",10)\n",
        "class Potato(Plant):\n",
        "  def __init__(self):\n",
        "    super().__init__(\"Potato\",10)\n",
        "    self.growth_stages=[\"seed\",\"sprout\",\"mature\",\"harvest_read\"]\n",
        "\n",
        "class Carrot(Plant):\n",
        "  def __init__(self):\n",
        "    super().__init__(\"Carrot\",10)\n",
        "    self.growth_stages=[\"seed\",\"sprout\",\"mature\",\"harvest_read\"]"
      ],
      "metadata": {
        "id": "UrKcG0ymvJtN"
      },
      "execution_count": 5,
      "outputs": []
    },
    {
      "cell_type": "code",
      "source": [
        "import random\n",
        "\n",
        "seeds=[\"tomato\",\"potato\",\"carrot\"]"
      ],
      "metadata": {
        "id": "FjEQdzZTaWSe"
      },
      "execution_count": 10,
      "outputs": []
    },
    {
      "cell_type": "code",
      "source": [
        "class Gardner:\n",
        "  def __init__(self,name):\n",
        "    self.name=name\n",
        "    self.inventory=[]\n",
        "  def get_seed(self):\n",
        "    seed= random.choice(seeds)\n",
        "    if seed not in self.inventory:\n",
        "        self.inventory[seed] = 1\n",
        "    else:\n",
        "        self.inventory[seed] += 1\n",
        "\n",
        "    print(f\"[self.name] has found the (seed) seed!\")\n",
        "  def plant(self):\n",
        "    pass\n",
        "\n",
        "\n",
        "\n",
        "\n",
        "\n"
      ],
      "metadata": {
        "id": "ISs3PDlKuFAE"
      },
      "execution_count": null,
      "outputs": []
    },
    {
      "cell_type": "code",
      "source": [],
      "metadata": {
        "id": "5dQM7V9mjbo3"
      },
      "execution_count": null,
      "outputs": []
    },
    {
      "cell_type": "code",
      "source": [
        "inventory={\"tomato\":4,\"carrot\":9,\"potato\":5}\n",
        "inventory.keys()\n",
        "list(inventory.keys())"
      ],
      "metadata": {
        "colab": {
          "base_uri": "https://localhost:8080/"
        },
        "id": "A7MXVlJAeLAQ",
        "outputId": "2aef93b8-3080-4e97-b0bb-f86a2ceb499f"
      },
      "execution_count": null,
      "outputs": [
        {
          "output_type": "execute_result",
          "data": {
            "text/plain": [
              "['tomato', 'carrot', 'potato']"
            ]
          },
          "metadata": {},
          "execution_count": 245
        }
      ]
    },
    {
      "cell_type": "code",
      "source": [
        "def select_seed(items):\n",
        "    item_list=list(items.keys())\n",
        "    for i in range(len(item_list)):\n",
        "        item_name=item_list[i]\n",
        "        print(f\"{i+1}.{item_name}\")\n"
      ],
      "metadata": {
        "id": "OvBZoOjddMh4"
      },
      "execution_count": 2,
      "outputs": []
    },
    {
      "cell_type": "code",
      "source": [
        "select_seed(inventory)"
      ],
      "metadata": {
        "colab": {
          "base_uri": "https://localhost:8080/"
        },
        "id": "Xd-AQNmWfDV5",
        "outputId": "e2f66759-ca70-42d9-e79e-3bdd7cd6aa4c"
      },
      "execution_count": null,
      "outputs": [
        {
          "output_type": "stream",
          "name": "stdout",
          "text": [
            "1.tomato\n",
            "2.carrot\n",
            "3.potato\n"
          ]
        }
      ]
    },
    {
      "cell_type": "code",
      "source": [
        "def select_seed(items):\n",
        "    item_list=list(items.keys())\n",
        "    for i in range(len(item_list)):\n",
        "        item_name=item_list[i]\n",
        "        print(f\"{i+1}.{item_name}\")\n",
        "\n",
        "    while True:\n",
        "        user_input = input(\"select your seed number\")\n",
        "        try:\n",
        "            user_input = int(user_input)\n",
        "            if 0 <user_input <= len(item_list):\n",
        "                return  item_list[user_input -1]\n",
        "            else:\n",
        "              print(\"invalid input\")\n",
        "        except:\n",
        "              print(\"invalid input\")"
      ],
      "metadata": {
        "id": "6ja2E-z_b5ln"
      },
      "execution_count": null,
      "outputs": []
    },
    {
      "cell_type": "code",
      "source": [
        "class Gardner:\n",
        "\n",
        "  plant_dict= {\"tomato\":Tomato, \"potato\":Potato, \"carrot\": Carrot}\n",
        "  def __init__(self,name):\n",
        "    self.name=name\n",
        "    self.inventory={}\n",
        "    self.planted_plant =[]\n",
        "  def get_seed(self):\n",
        "    seed= random.choice(seeds)\n",
        "    if seed not in self.inventory:\n",
        "        self.inventory[seed] = 1\n",
        "    else:\n",
        "        self.inventory[seed] += 1\n",
        "\n",
        "    print(f\"{self.name} has found the {seed} seed!\")\n",
        "  def plant(self):\n",
        "      selected_plant = select_seed(self.inventory)\n",
        "      if selected_plant in self.inventory and self.inventory[selected_plant] > 0 :\n",
        "          self.inventory[selected_plant] -=1\n",
        "          if self.inventory[selected_plant] ==0:\n",
        "               del self.inventory[selected_plant]\n",
        "          new_plant = self.plant_dict[selected_plant]()\n",
        "\n",
        "          self.planted_plant.append(new_plant)\n",
        "          print(f\"{self.name} has planted a {selected_plant} plant\")\n",
        "      else:\n",
        "            print(f\"{self.name} does not have any  {selected_plant} plant\")"
      ],
      "metadata": {
        "id": "CxXLZT_Fjddu",
        "colab": {
          "base_uri": "https://localhost:8080/",
          "height": 366
        },
        "outputId": "d47b3095-7a62-420c-fdf4-3923d8ab7bbd"
      },
      "execution_count": 3,
      "outputs": [
        {
          "output_type": "error",
          "ename": "NameError",
          "evalue": "ignored",
          "traceback": [
            "\u001b[0;31m---------------------------------------------------------------------------\u001b[0m",
            "\u001b[0;31mNameError\u001b[0m                                 Traceback (most recent call last)",
            "\u001b[0;32m<ipython-input-3-f0cf9339060b>\u001b[0m in \u001b[0;36m<cell line: 1>\u001b[0;34m()\u001b[0m\n\u001b[0;32m----> 1\u001b[0;31m \u001b[0;32mclass\u001b[0m \u001b[0mGardner\u001b[0m\u001b[0;34m:\u001b[0m\u001b[0;34m\u001b[0m\u001b[0;34m\u001b[0m\u001b[0m\n\u001b[0m\u001b[1;32m      2\u001b[0m \u001b[0;34m\u001b[0m\u001b[0m\n\u001b[1;32m      3\u001b[0m   \u001b[0mplant_dict\u001b[0m\u001b[0;34m=\u001b[0m \u001b[0;34m{\u001b[0m\u001b[0;34m\"tomato\"\u001b[0m\u001b[0;34m:\u001b[0m\u001b[0mTomato\u001b[0m\u001b[0;34m,\u001b[0m \u001b[0;34m\"potato\"\u001b[0m\u001b[0;34m:\u001b[0m\u001b[0mPotato\u001b[0m\u001b[0;34m,\u001b[0m \u001b[0;34m\"carrot\"\u001b[0m\u001b[0;34m:\u001b[0m \u001b[0mCarrot\u001b[0m\u001b[0;34m}\u001b[0m\u001b[0;34m\u001b[0m\u001b[0;34m\u001b[0m\u001b[0m\n\u001b[1;32m      4\u001b[0m   \u001b[0;32mdef\u001b[0m \u001b[0m__init__\u001b[0m\u001b[0;34m(\u001b[0m\u001b[0mself\u001b[0m\u001b[0;34m,\u001b[0m\u001b[0mname\u001b[0m\u001b[0;34m)\u001b[0m\u001b[0;34m:\u001b[0m\u001b[0;34m\u001b[0m\u001b[0;34m\u001b[0m\u001b[0m\n\u001b[1;32m      5\u001b[0m     \u001b[0mself\u001b[0m\u001b[0;34m.\u001b[0m\u001b[0mname\u001b[0m\u001b[0;34m=\u001b[0m\u001b[0mname\u001b[0m\u001b[0;34m\u001b[0m\u001b[0;34m\u001b[0m\u001b[0m\n",
            "\u001b[0;32m<ipython-input-3-f0cf9339060b>\u001b[0m in \u001b[0;36mGardner\u001b[0;34m()\u001b[0m\n\u001b[1;32m      1\u001b[0m \u001b[0;32mclass\u001b[0m \u001b[0mGardner\u001b[0m\u001b[0;34m:\u001b[0m\u001b[0;34m\u001b[0m\u001b[0;34m\u001b[0m\u001b[0m\n\u001b[1;32m      2\u001b[0m \u001b[0;34m\u001b[0m\u001b[0m\n\u001b[0;32m----> 3\u001b[0;31m   \u001b[0mplant_dict\u001b[0m\u001b[0;34m=\u001b[0m \u001b[0;34m{\u001b[0m\u001b[0;34m\"tomato\"\u001b[0m\u001b[0;34m:\u001b[0m\u001b[0mTomato\u001b[0m\u001b[0;34m,\u001b[0m \u001b[0;34m\"potato\"\u001b[0m\u001b[0;34m:\u001b[0m\u001b[0mPotato\u001b[0m\u001b[0;34m,\u001b[0m \u001b[0;34m\"carrot\"\u001b[0m\u001b[0;34m:\u001b[0m \u001b[0mCarrot\u001b[0m\u001b[0;34m}\u001b[0m\u001b[0;34m\u001b[0m\u001b[0;34m\u001b[0m\u001b[0m\n\u001b[0m\u001b[1;32m      4\u001b[0m   \u001b[0;32mdef\u001b[0m \u001b[0m__init__\u001b[0m\u001b[0;34m(\u001b[0m\u001b[0mself\u001b[0m\u001b[0;34m,\u001b[0m\u001b[0mname\u001b[0m\u001b[0;34m)\u001b[0m\u001b[0;34m:\u001b[0m\u001b[0;34m\u001b[0m\u001b[0;34m\u001b[0m\u001b[0m\n\u001b[1;32m      5\u001b[0m     \u001b[0mself\u001b[0m\u001b[0;34m.\u001b[0m\u001b[0mname\u001b[0m\u001b[0;34m=\u001b[0m\u001b[0mname\u001b[0m\u001b[0;34m\u001b[0m\u001b[0;34m\u001b[0m\u001b[0m\n",
            "\u001b[0;31mNameError\u001b[0m: name 'Tomato' is not defined"
          ]
        }
      ]
    },
    {
      "cell_type": "code",
      "source": [
        "hamza = Gardner(\"hamza\")\n",
        "hamza.name"
      ],
      "metadata": {
        "colab": {
          "base_uri": "https://localhost:8080/",
          "height": 36
        },
        "id": "3zMGhg6ywR14",
        "outputId": "9620ab84-fa97-4d5b-fe2e-62fcce9d6d88"
      },
      "execution_count": null,
      "outputs": [
        {
          "output_type": "execute_result",
          "data": {
            "text/plain": [
              "'hamza'"
            ],
            "application/vnd.google.colaboratory.intrinsic+json": {
              "type": "string"
            }
          },
          "metadata": {},
          "execution_count": 250
        }
      ]
    },
    {
      "cell_type": "code",
      "source": [
        "hamza.inventory"
      ],
      "metadata": {
        "colab": {
          "base_uri": "https://localhost:8080/"
        },
        "id": "V4xWl8HpwjuO",
        "outputId": "0358b236-e033-43fe-e3f0-b76e8457b135"
      },
      "execution_count": null,
      "outputs": [
        {
          "output_type": "execute_result",
          "data": {
            "text/plain": [
              "{}"
            ]
          },
          "metadata": {},
          "execution_count": 251
        }
      ]
    },
    {
      "cell_type": "code",
      "source": [
        "hamza.planted_plant"
      ],
      "metadata": {
        "colab": {
          "base_uri": "https://localhost:8080/"
        },
        "id": "Hx88-D0XiH_E",
        "outputId": "3f0f94c3-aad9-43b1-eab2-5cdc5d6b56f2"
      },
      "execution_count": null,
      "outputs": [
        {
          "output_type": "execute_result",
          "data": {
            "text/plain": [
              "[]"
            ]
          },
          "metadata": {},
          "execution_count": 252
        }
      ]
    },
    {
      "cell_type": "code",
      "source": [
        "hamza.get_seed()"
      ],
      "metadata": {
        "colab": {
          "base_uri": "https://localhost:8080/"
        },
        "id": "JMzvcd9nwwUx",
        "outputId": "00f1552a-b907-4087-8516-fbcb53d4db83"
      },
      "execution_count": null,
      "outputs": [
        {
          "output_type": "stream",
          "name": "stdout",
          "text": [
            "hamza has found the potato seed!\n"
          ]
        }
      ]
    },
    {
      "cell_type": "code",
      "source": [],
      "metadata": {
        "id": "seNz-ylexVlp"
      },
      "execution_count": null,
      "outputs": []
    },
    {
      "cell_type": "code",
      "source": [
        "hamza.inventory"
      ],
      "metadata": {
        "colab": {
          "base_uri": "https://localhost:8080/"
        },
        "id": "tCGmfDI4xO55",
        "outputId": "d2a5f7d9-0510-4265-dd38-1fa8f4f3c44a"
      },
      "execution_count": null,
      "outputs": [
        {
          "output_type": "execute_result",
          "data": {
            "text/plain": [
              "{'potato': 1}"
            ]
          },
          "metadata": {},
          "execution_count": 254
        }
      ]
    },
    {
      "cell_type": "code",
      "source": [
        "hamza.get_seed()"
      ],
      "metadata": {
        "colab": {
          "base_uri": "https://localhost:8080/"
        },
        "id": "4vRBviJsxXIZ",
        "outputId": "c5fa1b8e-b4c6-4f76-d6c7-6e336a57830f"
      },
      "execution_count": null,
      "outputs": [
        {
          "output_type": "stream",
          "name": "stdout",
          "text": [
            "hamza has found the carrot seed!\n"
          ]
        }
      ]
    },
    {
      "cell_type": "code",
      "source": [],
      "metadata": {
        "id": "v4Inxai0xc2s"
      },
      "execution_count": null,
      "outputs": []
    },
    {
      "cell_type": "code",
      "source": [
        "hamza.inventory"
      ],
      "metadata": {
        "colab": {
          "base_uri": "https://localhost:8080/"
        },
        "id": "dpW6QYd4xZZa",
        "outputId": "8740a6f8-a423-41a7-e408-2b661c585df4"
      },
      "execution_count": null,
      "outputs": [
        {
          "output_type": "execute_result",
          "data": {
            "text/plain": [
              "{'potato': 1, 'carrot': 1}"
            ]
          },
          "metadata": {},
          "execution_count": 256
        }
      ]
    },
    {
      "cell_type": "code",
      "source": [
        "hamza.get_seed()"
      ],
      "metadata": {
        "colab": {
          "base_uri": "https://localhost:8080/"
        },
        "id": "dcdyDaMvxdl0",
        "outputId": "9d8737d8-b29c-4db4-8878-530f9b3b020c"
      },
      "execution_count": null,
      "outputs": [
        {
          "output_type": "stream",
          "name": "stdout",
          "text": [
            "hamza has found the potato seed!\n"
          ]
        }
      ]
    },
    {
      "cell_type": "code",
      "source": [
        "hamza.inventory"
      ],
      "metadata": {
        "colab": {
          "base_uri": "https://localhost:8080/"
        },
        "id": "KV_l1_G3xkJ9",
        "outputId": "45227821-18d2-403a-8e01-3ba6f4d98f88"
      },
      "execution_count": null,
      "outputs": [
        {
          "output_type": "execute_result",
          "data": {
            "text/plain": [
              "{'potato': 2, 'carrot': 1}"
            ]
          },
          "metadata": {},
          "execution_count": 258
        }
      ]
    },
    {
      "cell_type": "code",
      "source": [
        "hamza.plant()"
      ],
      "metadata": {
        "colab": {
          "base_uri": "https://localhost:8080/"
        },
        "id": "BZDx9zi46e8d",
        "outputId": "7312db99-53c2-4409-f260-7b11a1af5bf4"
      },
      "execution_count": null,
      "outputs": [
        {
          "output_type": "stream",
          "name": "stdout",
          "text": [
            "1.potato\n",
            "2.carrot\n",
            "select your seed number1\n",
            "hamza has planted a potato plant\n"
          ]
        }
      ]
    },
    {
      "cell_type": "code",
      "source": [
        "hamza.inventory"
      ],
      "metadata": {
        "colab": {
          "base_uri": "https://localhost:8080/"
        },
        "id": "__Av-0LB7zvi",
        "outputId": "e8807bb5-953d-4f31-8706-d2a2d516f39d"
      },
      "execution_count": null,
      "outputs": [
        {
          "output_type": "execute_result",
          "data": {
            "text/plain": [
              "{'potato': 1, 'carrot': 1}"
            ]
          },
          "metadata": {},
          "execution_count": 260
        }
      ]
    },
    {
      "cell_type": "code",
      "source": [
        "class Gardner:\n",
        "\n",
        "  plant_dict= {\"tomato\":Tomato, \"potato\":Potato, \"carrot\": Carrot}\n",
        "  def __init__(self,name):\n",
        "    self.name=name\n",
        "    self.inventory={}\n",
        "    self.planted_plants =[]\n",
        "  def get_seed(self):\n",
        "    seed= random.choice(seeds)\n",
        "    if seed not in self.inventory:\n",
        "        self.inventory[seed] = 1\n",
        "    else:\n",
        "        self.inventory[seed] += 1\n",
        "\n",
        "    print(f\"{self.name} has found the {seed} seed!\")\n",
        "  def plant(self):\n",
        "      selected_plant = select_seed(self.inventory)\n",
        "      if selected_plant in self.inventory and self.inventory[selected_plant] > 0 :\n",
        "          self.inventory[selected_plant] -=1\n",
        "          if self.inventory[selected_plant] ==0:\n",
        "               del self.inventory[selected_plant]\n",
        "          new_plant = self.plant_dict[selected_plant]()\n",
        "\n",
        "          self.planted_plants.append(new_plant)\n",
        "          print(f\"{self.name} has planted a {selected_plant} plant\")\n",
        "      else:\n",
        "            print(f\"{self.name} does not have any  {selected_plant} plant\")\n",
        "  def tend(self):\n",
        "      for plant in self.planted_plants:\n",
        "        if not plant.harvesttable:\n",
        "            plant.grow()\n",
        "            print(f\"{plant.name} is now on a {plant.current_stages}\")\n",
        "        else:\n",
        "            print(f\"{plant.name} is ready to be harvested\")\n"
      ],
      "metadata": {
        "id": "rxj0sjQO_PCr"
      },
      "execution_count": null,
      "outputs": []
    },
    {
      "cell_type": "code",
      "source": [
        "hamza = Gardner(\"hamza\")\n",
        "hamza.get_seed()"
      ],
      "metadata": {
        "colab": {
          "base_uri": "https://localhost:8080/"
        },
        "id": "xmTXs2dxBI9-",
        "outputId": "78c1f89d-e41e-4c54-e01d-239b4379361d"
      },
      "execution_count": null,
      "outputs": [
        {
          "output_type": "stream",
          "name": "stdout",
          "text": [
            "hamza has found the tomato seed!\n"
          ]
        }
      ]
    },
    {
      "cell_type": "code",
      "source": [
        "hamza.inventory"
      ],
      "metadata": {
        "colab": {
          "base_uri": "https://localhost:8080/"
        },
        "id": "baR8kl48BU4U",
        "outputId": "13d0046b-6984-410f-d0a5-cdbbad5c2beb"
      },
      "execution_count": null,
      "outputs": [
        {
          "output_type": "execute_result",
          "data": {
            "text/plain": [
              "{'tomato': 1}"
            ]
          },
          "metadata": {},
          "execution_count": 263
        }
      ]
    },
    {
      "cell_type": "code",
      "source": [
        "hamza.plant()"
      ],
      "metadata": {
        "colab": {
          "base_uri": "https://localhost:8080/"
        },
        "id": "9AoQ2jN6BYF5",
        "outputId": "9561cf14-a6ae-4d6c-a982-3b2ef9ca1d09"
      },
      "execution_count": null,
      "outputs": [
        {
          "output_type": "stream",
          "name": "stdout",
          "text": [
            "1.tomato\n",
            "select your seed number1\n",
            "hamza has planted a tomato plant\n"
          ]
        }
      ]
    },
    {
      "cell_type": "code",
      "source": [
        "hamza.inventory"
      ],
      "metadata": {
        "colab": {
          "base_uri": "https://localhost:8080/"
        },
        "id": "aIqufoAYBh1I",
        "outputId": "f5014946-7697-4c6a-ab6b-211c5df548b8"
      },
      "execution_count": null,
      "outputs": [
        {
          "output_type": "execute_result",
          "data": {
            "text/plain": [
              "{}"
            ]
          },
          "metadata": {},
          "execution_count": 265
        }
      ]
    },
    {
      "cell_type": "code",
      "source": [
        "hamza.tend()"
      ],
      "metadata": {
        "colab": {
          "base_uri": "https://localhost:8080/"
        },
        "id": "475i2dsrBh49",
        "outputId": "6824e8bb-2e7b-4bbe-f6e3-3fc60281f1af"
      },
      "execution_count": null,
      "outputs": [
        {
          "output_type": "stream",
          "name": "stdout",
          "text": [
            "Tomato is now on a sprout\n"
          ]
        }
      ]
    },
    {
      "cell_type": "code",
      "source": [
        "hamza.tend()"
      ],
      "metadata": {
        "colab": {
          "base_uri": "https://localhost:8080/"
        },
        "id": "pGdOgJlkBh8W",
        "outputId": "fbd353c6-deb1-4d60-8085-32cb85264a67"
      },
      "execution_count": null,
      "outputs": [
        {
          "output_type": "stream",
          "name": "stdout",
          "text": [
            "Tomato is now on a mature\n"
          ]
        }
      ]
    },
    {
      "cell_type": "code",
      "source": [
        "hamza.tend()"
      ],
      "metadata": {
        "colab": {
          "base_uri": "https://localhost:8080/"
        },
        "id": "DA1byWyDBh_U",
        "outputId": "87990427-4289-4798-ca7e-31152153169b"
      },
      "execution_count": null,
      "outputs": [
        {
          "output_type": "stream",
          "name": "stdout",
          "text": [
            "Tomato is now on a flower\n"
          ]
        }
      ]
    },
    {
      "cell_type": "code",
      "source": [
        "hamza.tend()"
      ],
      "metadata": {
        "colab": {
          "base_uri": "https://localhost:8080/"
        },
        "id": "jSB3hqrbBiDi",
        "outputId": "f3013a93-edbc-435b-bbad-ab8fca74eb42"
      },
      "execution_count": null,
      "outputs": [
        {
          "output_type": "stream",
          "name": "stdout",
          "text": [
            "Tomato is now on a fruit\n"
          ]
        }
      ]
    },
    {
      "cell_type": "code",
      "source": [
        "hamza.tend()"
      ],
      "metadata": {
        "colab": {
          "base_uri": "https://localhost:8080/"
        },
        "id": "Xz3US6lCBiHs",
        "outputId": "fe3595b3-8139-4413-db54-966d04f4a9b8"
      },
      "execution_count": null,
      "outputs": [
        {
          "output_type": "stream",
          "name": "stdout",
          "text": [
            "Tomato is now on a harvest_ready\n"
          ]
        }
      ]
    },
    {
      "cell_type": "code",
      "source": [
        "hamza.tend()"
      ],
      "metadata": {
        "colab": {
          "base_uri": "https://localhost:8080/"
        },
        "id": "o5Rs_lw-BiKm",
        "outputId": "5181e5ed-0252-474b-c20c-9d60b027a282"
      },
      "execution_count": null,
      "outputs": [
        {
          "output_type": "stream",
          "name": "stdout",
          "text": [
            "Tomato is ready to be harvested\n"
          ]
        }
      ]
    },
    {
      "cell_type": "code",
      "source": [
        "class Gardner:\n",
        "\n",
        "  plant_dict= {\"tomato\":Tomato, \"potato\":Potato, \"carrot\": Carrot}\n",
        "  def __init__(self,name):\n",
        "    self.name=name\n",
        "    self.inventory={}\n",
        "    self.planted_plants =[]\n",
        "  def get_seed(self):\n",
        "    seed= random.choice(seeds)\n",
        "    if seed not in self.inventory:\n",
        "        self.inventory[seed] = 1\n",
        "    else:\n",
        "        self.inventory[seed] += 1\n",
        "\n",
        "    print(f\"{self.name} has found the {seed} seed!\")\n",
        "  def plant(self):\n",
        "      selected_plant = select_seed(self.inventory)\n",
        "      if selected_plant in self.inventory and self.inventory[selected_plant] > 0 :\n",
        "          self.inventory[selected_plant] -=1\n",
        "          if self.inventory[selected_plant] ==0:\n",
        "               del self.inventory[selected_plant]\n",
        "          new_plant = self.plant_dict[selected_plant]()\n",
        "\n",
        "          self.planted_plants.append(new_plant)\n",
        "          print(f\"{self.name} has planted a {selected_plant} plant\")\n",
        "      else:\n",
        "            print(f\"{self.name} does not have any  {selected_plant} plant\")\n",
        "  def tend(self):\n",
        "      for plant in self.planted_plants:\n",
        "        if not plant.harvesttable:\n",
        "            plant.grow()\n",
        "            print(f\"{plant.name} is now on a {plant.current_stages}\")\n",
        "        else:\n",
        "            print(f\"{plant.name} is ready to be harvested\")\n",
        "  def harvest(self):\n",
        "    pass"
      ],
      "metadata": {
        "id": "CkxKp_ToBiNk"
      },
      "execution_count": 6,
      "outputs": []
    },
    {
      "cell_type": "code",
      "source": [
        "def select_item(items):\n",
        "    if type(items) == dict:\n",
        "        item_list=list(items.keys())\n",
        "    elif type(items) == list:\n",
        "         item_list = items\n",
        "\n",
        "    for i in range(len(item_list)):\n",
        "        try:\n",
        "            item_name = item_list[i].name\n",
        "        except:\n",
        "            item_name = item_list[i]\n",
        "\n",
        "        print(f\"{i+1}.{item_name}\")\n",
        "\n",
        "    print()\n",
        "    while True:\n",
        "        user_input = input(\"select an item\")\n",
        "        try:\n",
        "            user_input = int(user_input)\n",
        "            if 0 <user_input <= len(item_list):\n",
        "                return  item_list[user_input -1]\n",
        "            else:\n",
        "              print(\"invalid input\")\n",
        "        except:\n",
        "              print(\"invalid input\")"
      ],
      "metadata": {
        "id": "RFuSHYFvBiQb"
      },
      "execution_count": 7,
      "outputs": []
    },
    {
      "cell_type": "code",
      "source": [
        "class Gardner:\n",
        "\n",
        "  plant_dict= {\"tomato\":Tomato, \"potato\":Potato, \"carrot\": Carrot}\n",
        "  def __init__(self,name):\n",
        "    self.name=name\n",
        "    self.inventory={}\n",
        "    self.planted_plants =[]\n",
        "  def get_seed(self):\n",
        "    seed= random.choice(seeds)\n",
        "    if seed not in self.inventory:\n",
        "        self.inventory[seed] = 1\n",
        "    else:\n",
        "        self.inventory[seed] += 1\n",
        "\n",
        "    print(f\"{self.name} has found the {seed} seed!\")\n",
        "  def plant(self):\n",
        "      selected_plant = select_item(self.inventory)\n",
        "      if selected_plant in self.inventory and self.inventory[selected_plant] > 0 :\n",
        "          self.inventory[selected_plant] -=1\n",
        "          if self.inventory[selected_plant] ==0:\n",
        "               del self.inventory[selected_plant]\n",
        "          new_plant = self.plant_dict[selected_plant]()\n",
        "\n",
        "          self.planted_plants.append(new_plant)\n",
        "          print(f\"{self.name} has planted a {selected_plant} plant\")\n",
        "      else:\n",
        "            print(f\"{self.name} does not have any  {selected_plant} plant\")\n",
        "  def tend(self):\n",
        "      for plant in self.planted_plants:\n",
        "        if not plant.harvesttable:\n",
        "            plant.grow()\n",
        "            print(f\"{plant.name} is now on a {plant.current_stages}\")\n",
        "        else:\n",
        "            print(f\"{plant.name} is ready to be harvested\")\n",
        "  def harvest(self):\n",
        "      selected_plant = select_item(self.planted_plants)\n",
        "      if selected_plant.harvesttable == True:\n",
        "         if selected_plant.name not in self.inventory:\n",
        "            self.inventory[selected_plant.name]= selected_plant.harvest()\n",
        "         else:\n",
        "            self.inventory[selected_plant.name]+= selected_plant.harvest()\n",
        "         print(f\"you have harvested {selected_plant.name}!\")\n",
        "         self.planted_plants.remove(selected_plant)\n",
        "      else:\n",
        "           print(f\"you can't harvested {selected_plant.name}!\")"
      ],
      "metadata": {
        "id": "dQO5QUtqBM2Q"
      },
      "execution_count": 8,
      "outputs": []
    },
    {
      "cell_type": "code",
      "source": [],
      "metadata": {
        "id": "a5EIOwhDkef2"
      },
      "execution_count": null,
      "outputs": []
    },
    {
      "cell_type": "code",
      "source": [
        "hamza = Gardner(\"hamza\")"
      ],
      "metadata": {
        "id": "nSev_VRKjrDU"
      },
      "execution_count": null,
      "outputs": []
    },
    {
      "cell_type": "code",
      "source": [
        "hamza.get_seed()"
      ],
      "metadata": {
        "colab": {
          "base_uri": "https://localhost:8080/"
        },
        "id": "ynijBwxdjv47",
        "outputId": "1fd0846c-98a3-4492-956f-6a67fea5516c"
      },
      "execution_count": null,
      "outputs": [
        {
          "output_type": "stream",
          "name": "stdout",
          "text": [
            "hamza has found the carrot seed!\n"
          ]
        }
      ]
    },
    {
      "cell_type": "code",
      "source": [
        "hamza.get_seed()"
      ],
      "metadata": {
        "colab": {
          "base_uri": "https://localhost:8080/"
        },
        "id": "4syRpir4j1Bs",
        "outputId": "97c04d79-90eb-4be4-fdab-938c17f06216"
      },
      "execution_count": null,
      "outputs": [
        {
          "output_type": "stream",
          "name": "stdout",
          "text": [
            "hamza has found the potato seed!\n"
          ]
        }
      ]
    },
    {
      "cell_type": "code",
      "source": [
        "hamza.inventory"
      ],
      "metadata": {
        "colab": {
          "base_uri": "https://localhost:8080/"
        },
        "id": "faTen9lJj3J1",
        "outputId": "5a0e32ab-9a0b-4d5a-af00-50cf06f93f45"
      },
      "execution_count": null,
      "outputs": [
        {
          "output_type": "execute_result",
          "data": {
            "text/plain": [
              "{'carrot': 1, 'potato': 1}"
            ]
          },
          "metadata": {},
          "execution_count": 15
        }
      ]
    },
    {
      "cell_type": "code",
      "source": [
        "hamza.plant()"
      ],
      "metadata": {
        "colab": {
          "base_uri": "https://localhost:8080/"
        },
        "id": "31PJKdSMj6M2",
        "outputId": "65d14ef6-865b-4368-f41d-e10cd88d179c"
      },
      "execution_count": null,
      "outputs": [
        {
          "output_type": "stream",
          "name": "stdout",
          "text": [
            "1.carrot\n",
            "2.potato\n",
            "\n",
            "select an item1\n",
            "hamza has planted a carrot plant\n"
          ]
        }
      ]
    },
    {
      "cell_type": "code",
      "source": [
        "hamza.plant()\n"
      ],
      "metadata": {
        "colab": {
          "base_uri": "https://localhost:8080/"
        },
        "id": "CkW421cwj97-",
        "outputId": "16f2b511-d5d6-4e18-81cd-6a7e22744854"
      },
      "execution_count": null,
      "outputs": [
        {
          "output_type": "stream",
          "name": "stdout",
          "text": [
            "1.potato\n",
            "\n",
            "select an item2\n",
            "invalid input\n",
            "select an item1\n",
            "hamza has planted a potato plant\n"
          ]
        }
      ]
    },
    {
      "cell_type": "code",
      "source": [
        "hamza.tend()"
      ],
      "metadata": {
        "colab": {
          "base_uri": "https://localhost:8080/"
        },
        "id": "RyKXj4lwkGbD",
        "outputId": "e94a3c29-9255-484c-9632-20f9a9481590"
      },
      "execution_count": null,
      "outputs": [
        {
          "output_type": "stream",
          "name": "stdout",
          "text": [
            "Carrot is now on a sprout\n",
            "Potato is now on a sprout\n"
          ]
        }
      ]
    },
    {
      "cell_type": "code",
      "source": [
        "hamza.tend()"
      ],
      "metadata": {
        "colab": {
          "base_uri": "https://localhost:8080/"
        },
        "id": "hy1LZ1GBkLs9",
        "outputId": "6115bafc-0ad7-466f-8d4d-6f1ff17cb066"
      },
      "execution_count": null,
      "outputs": [
        {
          "output_type": "stream",
          "name": "stdout",
          "text": [
            "Carrot is now on a mature\n",
            "Potato is now on a mature\n"
          ]
        }
      ]
    },
    {
      "cell_type": "code",
      "source": [
        "hamza.harvest()"
      ],
      "metadata": {
        "colab": {
          "base_uri": "https://localhost:8080/"
        },
        "id": "5HcHrQhjkgAn",
        "outputId": "3a2b4fdd-09ff-42f2-b057-6e8358c14036"
      },
      "execution_count": null,
      "outputs": [
        {
          "output_type": "stream",
          "name": "stdout",
          "text": [
            "1.Carrot\n",
            "2.Potato\n",
            "\n",
            "select an item1\n",
            "you can't harvested Carrot!\n"
          ]
        }
      ]
    },
    {
      "cell_type": "code",
      "source": [
        "hamza.harvest()"
      ],
      "metadata": {
        "colab": {
          "base_uri": "https://localhost:8080/"
        },
        "id": "pwkuCuAAlo50",
        "outputId": "8e74b5d9-44d2-4fbe-996b-1a18005ff832"
      },
      "execution_count": null,
      "outputs": [
        {
          "output_type": "stream",
          "name": "stdout",
          "text": [
            "1.Carrot\n",
            "2.Potato\n",
            "\n",
            "select an item1\n",
            "you can't harvested Carrot!\n"
          ]
        }
      ]
    },
    {
      "cell_type": "code",
      "source": [
        "hamza.tend()"
      ],
      "metadata": {
        "colab": {
          "base_uri": "https://localhost:8080/"
        },
        "id": "6JEXv1mhmrGO",
        "outputId": "dabd4757-10ae-46fb-df61-66154a5f71a9"
      },
      "execution_count": null,
      "outputs": [
        {
          "output_type": "stream",
          "name": "stdout",
          "text": [
            "Carrot is now on a harvest_read\n",
            "Potato is now on a harvest_read\n"
          ]
        }
      ]
    },
    {
      "cell_type": "code",
      "source": [
        "hamza.harvest()"
      ],
      "metadata": {
        "colab": {
          "base_uri": "https://localhost:8080/"
        },
        "id": "vw_-P4nRmtf1",
        "outputId": "78f50971-ffe5-456d-e171-526063de1be2"
      },
      "execution_count": null,
      "outputs": [
        {
          "output_type": "stream",
          "name": "stdout",
          "text": [
            "1.Carrot\n",
            "2.Potato\n",
            "\n",
            "select an item1\n",
            "you have harvested Carrot!\n"
          ]
        }
      ]
    },
    {
      "cell_type": "code",
      "source": [
        "hamza.tend()"
      ],
      "metadata": {
        "id": "UW-Px1o1sJVk",
        "colab": {
          "base_uri": "https://localhost:8080/"
        },
        "outputId": "4cd4f7dc-b0f6-462e-d33a-c0aede29c3d5"
      },
      "execution_count": null,
      "outputs": [
        {
          "output_type": "stream",
          "name": "stdout",
          "text": [
            "Carrot is already full grown\n",
            "Carrot is now on a harvest_read\n",
            "Potato is ready to be harvested\n"
          ]
        }
      ]
    },
    {
      "cell_type": "code",
      "source": [
        "hamza.harvest()"
      ],
      "metadata": {
        "id": "mW_875ucsNgk",
        "colab": {
          "base_uri": "https://localhost:8080/"
        },
        "outputId": "4930c192-cf79-47e6-9f98-ba6ed2837c0c"
      },
      "execution_count": null,
      "outputs": [
        {
          "output_type": "stream",
          "name": "stdout",
          "text": [
            "1.Carrot\n",
            "2.Potato\n",
            "\n",
            "select an item2\n",
            "you have harvested Potato!\n"
          ]
        }
      ]
    },
    {
      "cell_type": "code",
      "source": [
        "valid_commands=[\"help\",\"quit\",\"seed\",\"plant\",\"tend\",\"harvest\"]\n",
        "gardner_name=input(\"what is the gardener name \")\n",
        "print(f\"welcome {gardner_name}! \\nType for valid command\")\n",
        "\n",
        "gardener= Gardner(gardner_name)\n",
        "while True:\n",
        "    gardner_action= input(\"what do you want to do ?\")\n",
        "    gardner_action= gardner_action.lower()\n",
        "    if gardner_action in valid_commands:\n",
        "        if gardner_action == \"help\":\n",
        "            print(\"**Available Commands**\")\n",
        "            for command in valid_commands:\n",
        "                print(command)\n",
        "        elif gardner_action == \"seed\":\n",
        "            gardener.get_seed()\n",
        "        elif gardner_action == \"plant\":\n",
        "            gardener.plant()\n",
        "        elif gardner_action == \"tend\":\n",
        "            gardener.tend()\n",
        "        elif gardner_action == \"harvest\":\n",
        "            gardener.harvest()\n",
        "        elif gardner_action == \"quit\":\n",
        "            print(\"Thank you for your intetest ,come again Good Bye\")\n",
        "            break\n",
        "\n",
        "    else:\n",
        "        print(\"Invalid Command\")"
      ],
      "metadata": {
        "colab": {
          "base_uri": "https://localhost:8080/"
        },
        "id": "8E_GbPpFRZcY",
        "outputId": "f6e51701-d253-4254-fb6e-1d1c5bd55152"
      },
      "execution_count": 12,
      "outputs": [
        {
          "output_type": "stream",
          "name": "stdout",
          "text": [
            "what is the gardener name syed hamza shamim\n",
            "welcome syed hamza shamim! \n",
            "Type for valid command\n",
            "what do you want to do ?help\n",
            "**Available Commands**\n",
            "help\n",
            "quit\n",
            "seed\n",
            "plant\n",
            "tend\n",
            "harvest\n",
            "what do you want to do ?seed\n",
            "syed hamza shamim has found the tomato seed!\n",
            "what do you want to do ?seed\n",
            "syed hamza shamim has found the tomato seed!\n",
            "what do you want to do ?seed\n",
            "syed hamza shamim has found the potato seed!\n",
            "what do you want to do ?plant\n",
            "1.tomato\n",
            "2.potato\n",
            "\n",
            "select an item1\n",
            "syed hamza shamim has planted a tomato plant\n",
            "what do you want to do ?plant\n",
            "1.tomato\n",
            "2.potato\n",
            "\n",
            "select an item2\n",
            "syed hamza shamim has planted a potato plant\n",
            "what do you want to do ?tend\n",
            "Tomato is now on a sprout\n",
            "Potato is now on a sprout\n",
            "what do you want to do ?tend\n",
            "Tomato is now on a mature\n",
            "Potato is now on a mature\n",
            "what do you want to do ?tend\n",
            "Tomato is now on a flower\n",
            "Potato is now on a harvest_read\n",
            "what do you want to do ?harvest\n",
            "1.Tomato\n",
            "2.Potato\n",
            "\n",
            "select an item1\n",
            "you can't harvested Tomato!\n",
            "what do you want to do ?harvest\n",
            "1.Tomato\n",
            "2.Potato\n",
            "\n",
            "select an item2\n",
            "you have harvested Potato!\n",
            "what do you want to do ?tend\n",
            "Tomato is now on a fruit\n",
            "what do you want to do ?tend\n",
            "Tomato is now on a harvest_ready\n",
            "what do you want to do ?harvest\n",
            "1.Tomato\n",
            "\n",
            "select an item1\n",
            "you have harvested Tomato!\n",
            "what do you want to do ?quit\n",
            "Thank you for your intetest ,come again Good Bye\n"
          ]
        }
      ]
    }
  ]
}